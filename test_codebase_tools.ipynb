{
 "cells": [
  {
   "cell_type": "markdown",
   "id": "f67ff4e6-9689-423a-81a6-ae54824f79b6",
   "metadata": {},
   "source": [
    "# Test for codebase tools\n",
    "\n",
    "Following methods:\n",
    "- Get_all_methods_heads_from_Class(class_name) -> all method heads with their documentation\n",
    "- Get_method_body(class_name, method_name) -> body of the method\n",
    "- Replace_method(class_name, method_name, new_method) -> message"
   ]
  },
  {
   "cell_type": "code",
   "execution_count": 1,
   "id": "c723afc5-4ae8-4711-9b89-b00da509ca0f",
   "metadata": {},
   "outputs": [],
   "source": [
    "from ReplaceMethod import ReplaceMethod\n",
    "from GetAllMethodsHeadsFromClass import GetAllMethodsHeadsFromClass\n",
    "from GetMethodBody import GetMethodBody\n",
    "from StackoverflowQuestions import StackoverflowQuestions"
   ]
  },
  {
   "cell_type": "code",
   "execution_count": 2,
   "id": "2d8a8de0-ec73-4a5d-a05b-62f54fed82b5",
   "metadata": {},
   "outputs": [
    {
     "name": "stdout",
     "output_type": "stream",
     "text": [
      "def __init__(self, one: str, two: int):\n",
      "    \"\"\"\n",
      "    Init the class. Careful: do not touch!\n",
      "    \"\"\"\n",
      "\n",
      "def do_stuff(self) -> str:\n",
      "\n"
     ]
    }
   ],
   "source": [
    "# Example usage:\n",
    "get_methods = GetAllMethodsHeadsFromClass(\"./test_codebase/\")\n",
    "print(get_methods(\"MyClass\"))"
   ]
  },
  {
   "cell_type": "code",
   "execution_count": 3,
   "id": "97b8b75d-c8dd-4383-9132-7edf6daaf94b",
   "metadata": {},
   "outputs": [
    {
     "name": "stdout",
     "output_type": "stream",
     "text": [
      "def do_stuff(self) -> str:\n",
      "    print('test')\n"
     ]
    }
   ],
   "source": [
    "# Example usage\n",
    "get_method_body = GetMethodBody(\"./test_codebase/\")\n",
    "method_body = get_method_body(\"MyClass\", \"do_stuff\")\n",
    "print(method_body)"
   ]
  },
  {
   "cell_type": "code",
   "execution_count": 4,
   "id": "3d82d46a-e583-4391-ab63-31b75cb0ce44",
   "metadata": {},
   "outputs": [
    {
     "name": "stdout",
     "output_type": "stream",
     "text": [
      "Method 'do_stuff' in class 'MyClass' replaced successfully in file 'test.py'.\n"
     ]
    }
   ],
   "source": [
    "# Example usage\n",
    "new_method = \"\"\"\n",
    "def do_stuff(self) -> str:\n",
    "    print(\"Do cool stuff!!\")\n",
    "\"\"\"\n",
    "\n",
    "replace_method = ReplaceMethod(\"./test_codebase/\")\n",
    "feedback = replace_method(\"MyClass\", \"do_stuff\", new_method)\n",
    "print(feedback)"
   ]
  },
  {
   "cell_type": "code",
   "execution_count": 5,
   "id": "8c5b4e79-ec02-4120-b4a2-01d26cfae18e",
   "metadata": {},
   "outputs": [
    {
     "name": "stdout",
     "output_type": "stream",
     "text": [
      "Method 'do_stuff' in class 'MyClass' replaced successfully in file 'test.py'.\n"
     ]
    }
   ],
   "source": [
    "# Example usage\n",
    "new_method = \"\"\"\n",
    "def do_stuff(self) -> str:\n",
    "    print(\"test\")\n",
    "\"\"\"\n",
    "\n",
    "replace_method = ReplaceMethod(\"./test_codebase/\")\n",
    "feedback = replace_method(\"MyClass\", \"do_stuff\", new_method)\n",
    "print(feedback)"
   ]
  },
  {
   "cell_type": "code",
   "execution_count": 7,
   "id": "8eec660f-5141-41d6-8390-f7483a021ff5",
   "metadata": {},
   "outputs": [
    {
     "name": "stdout",
     "output_type": "stream",
     "text": [
      "\n"
     ]
    }
   ],
   "source": [
    "question = StackoverflowQuestions()\n",
    "answer = question(\"What does __init__ do?\")\n",
    "print(answer)"
   ]
  },
  {
   "cell_type": "code",
   "execution_count": null,
   "id": "2c68869a-d9eb-4611-8c46-93c19506246a",
   "metadata": {},
   "outputs": [],
   "source": []
  }
 ],
 "metadata": {
  "kernelspec": {
   "display_name": "Python 3 (ipykernel)",
   "language": "python",
   "name": "python3"
  },
  "language_info": {
   "codemirror_mode": {
    "name": "ipython",
    "version": 3
   },
   "file_extension": ".py",
   "mimetype": "text/x-python",
   "name": "python",
   "nbconvert_exporter": "python",
   "pygments_lexer": "ipython3",
   "version": "3.11.9"
  }
 },
 "nbformat": 4,
 "nbformat_minor": 5
}
