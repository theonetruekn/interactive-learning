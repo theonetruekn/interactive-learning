{
 "cells": [
  {
   "cell_type": "code",
   "execution_count": 1,
   "id": "3a997a31-d25d-48fa-b328-8baa3093cbe8",
   "metadata": {},
   "outputs": [],
   "source": [
    "from stackapi import StackAPI"
   ]
  },
  {
   "cell_type": "code",
   "execution_count": 16,
   "id": "1bc44d07-a45f-40ce-b513-166319cbd970",
   "metadata": {},
   "outputs": [],
   "source": [
    "SITE = StackAPI('stackoverflow')\n",
    "SITE.page_size = 10\n",
    "SITE.max_pages = 1"
   ]
  },
  {
   "cell_type": "code",
   "execution_count": 20,
   "id": "4de19b3d-f82b-4f21-820f-7ae66df8b5de",
   "metadata": {},
   "outputs": [],
   "source": [
    "questions = SITE.fetch('search', intitle=\"pytorch create a tensor\", tagged='python', sort='votes')"
   ]
  },
  {
   "cell_type": "code",
   "execution_count": 21,
   "id": "1fd00933-a822-4753-88f5-129e6c4b3ec0",
   "metadata": {},
   "outputs": [
    {
     "data": {
      "text/plain": [
       "{'backoff': 0,\n",
       " 'has_more': False,\n",
       " 'page': 1,\n",
       " 'quota_max': 300,\n",
       " 'quota_remaining': 249,\n",
       " 'total': 0,\n",
       " 'items': []}"
      ]
     },
     "execution_count": 21,
     "metadata": {},
     "output_type": "execute_result"
    }
   ],
   "source": [
    "questions"
   ]
  },
  {
   "cell_type": "code",
   "execution_count": null,
   "id": "299105dc-dc96-4f1a-8216-7f6373db4f09",
   "metadata": {},
   "outputs": [],
   "source": []
  }
 ],
 "metadata": {
  "kernelspec": {
   "display_name": "Python 3 (ipykernel)",
   "language": "python",
   "name": "python3"
  },
  "language_info": {
   "codemirror_mode": {
    "name": "ipython",
    "version": 3
   },
   "file_extension": ".py",
   "mimetype": "text/x-python",
   "name": "python",
   "nbconvert_exporter": "python",
   "pygments_lexer": "ipython3",
   "version": "3.11.9"
  }
 },
 "nbformat": 4,
 "nbformat_minor": 5
}
