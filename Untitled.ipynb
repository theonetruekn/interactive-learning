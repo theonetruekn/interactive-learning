{
 "cells": [
  {
   "cell_type": "code",
   "execution_count": 11,
   "id": "2373888b-25a8-43fd-a0bd-4e47bab1e1d7",
   "metadata": {},
   "outputs": [],
   "source": [
    "import json\n",
    "\n",
    "def parse_json_string(json_string):\n",
    "    try:\n",
    "        # Remove the '--- END OF LIST ---' if it's present\n",
    "        if '--- END OF LIST ---' in json_string:\n",
    "            json_string = json_string.replace('--- END OF LIST ---', '').strip()\n",
    "        \n",
    "        # Attempt to parse the JSON string into a Python object\n",
    "        data = json.loads(json_string)\n",
    "        \n",
    "        # Check if the top-level structure is a list\n",
    "        if not isinstance(data, list):\n",
    "            return (False, \"Error: JSON should start with a list of dictionaries.\")\n",
    "        \n",
    "        for i, item in enumerate(data):\n",
    "            if not isinstance(item, dict):\n",
    "                return (False, f\"Error: Element at index {i} should be a dictionary.\")\n",
    "            \n",
    "            # Check for the 'file_path' key and its type\n",
    "            if 'file_path' not in item:\n",
    "                return (False, f\"Error: Missing 'file_path' key in element at index {i}.\")\n",
    "            if not isinstance(item['file_path'], str):\n",
    "                return (False, f\"Error: 'file_path' at index {i} should be a string.\")\n",
    "            \n",
    "            # Check for 'selected_functions' and 'selected_classes' keys and their types\n",
    "            if 'selected_functions' not in item or not isinstance(item['selected_functions'], list):\n",
    "                return (False, f\"Error: 'selected_functions' at index {i} should be a list.\")\n",
    "            if 'selected_classes' not in item or not isinstance(item['selected_classes'], list):\n",
    "                return (False, f\"Error: 'selected_classes' at index {i} should be a list.\")\n",
    "            \n",
    "            # Convert all elements in 'selected_functions' and 'selected_classes' to strings\n",
    "            item['selected_functions'] = [str(func) for func in item['selected_functions']]\n",
    "            item['selected_classes'] = [str(cls) for cls in item['selected_classes']]\n",
    "        \n",
    "        return (True, data)\n",
    "    \n",
    "    except json.JSONDecodeError as e:\n",
    "        return (False, f\"Error: Failed to parse JSON. {str(e)}\")"
   ]
  },
  {
   "cell_type": "code",
   "execution_count": 12,
   "id": "a72be125-b348-407e-84e4-d327e8c2ac4c",
   "metadata": {},
   "outputs": [],
   "source": [
    "import json"
   ]
  },
  {
   "cell_type": "code",
   "execution_count": 13,
   "id": "8b296513-4219-4e33-9032-6eb7cc58253c",
   "metadata": {},
   "outputs": [],
   "source": [
    "test =\"\"\"\n",
    "[\n",
    "    {\n",
    "        \"file_path\": \"./repos/sqlfluff/src/sqlfluff/core/config.py\",\n",
    "        \"selected_functions\": [],\n",
    "        \"selected_classes\": [\n",
    "            \"ConfigLoader\",\n",
    "            \"FluffConfig\"\n",
    "        ]\n",
    "    },\n",
    "    {\n",
    "        \"file_path\": \"./repos/sqlfluff/src/sqlfluff/core/linter/linted_file.py\",\n",
    "        \"selected_functions\": [],\n",
    "        \"selected_classes\": [\n",
    "            \"LintedFile\"\n",
    "        ]\n",
    "    },\n",
    "    {\n",
    "        \"file_path\": \"./repos/sqlfluff/src/sqlfluff/core/parser/lexer.py\",\n",
    "        \"selected_functions\": [],\n",
    "        \"selected_classes\": [\n",
    "            \"TemplateElement\",\n",
    "            \"LexMatch\",\n",
    "            \"StringLexer\",\n",
    "            \"RegexLexer\",\n",
    "            \"Lexer\"\n",
    "        ]\n",
    "    },\n",
    "    {\n",
    "        \"file_path\": \"./repos/sqlfluff/src/sqlfluff/core/parser/matchable.py\",\n",
    "        \"selected_functions\": [\"match\"],\n",
    "        \"selected_classes\": [\n",
    "            \"Matchable\"\n",
    "        ]\n",
    "    }\n",
    "]\n",
    "--- END OF LIST ---\n",
    "\"\"\""
   ]
  },
  {
   "cell_type": "code",
   "execution_count": 14,
   "id": "cbdabed8-a86f-4323-a5fe-4f983effda84",
   "metadata": {},
   "outputs": [
    {
     "data": {
      "text/plain": [
       "(True,\n",
       " [{'file_path': './repos/sqlfluff/src/sqlfluff/core/config.py',\n",
       "   'selected_functions': [],\n",
       "   'selected_classes': ['ConfigLoader', 'FluffConfig']},\n",
       "  {'file_path': './repos/sqlfluff/src/sqlfluff/core/linter/linted_file.py',\n",
       "   'selected_functions': [],\n",
       "   'selected_classes': ['LintedFile']},\n",
       "  {'file_path': './repos/sqlfluff/src/sqlfluff/core/parser/lexer.py',\n",
       "   'selected_functions': [],\n",
       "   'selected_classes': ['TemplateElement',\n",
       "    'LexMatch',\n",
       "    'StringLexer',\n",
       "    'RegexLexer',\n",
       "    'Lexer']},\n",
       "  {'file_path': './repos/sqlfluff/src/sqlfluff/core/parser/matchable.py',\n",
       "   'selected_functions': ['match'],\n",
       "   'selected_classes': ['Matchable']}])"
      ]
     },
     "execution_count": 14,
     "metadata": {},
     "output_type": "execute_result"
    }
   ],
   "source": [
    "parse_json_string(test)"
   ]
  },
  {
   "cell_type": "code",
   "execution_count": null,
   "id": "cda2de3a-d229-4197-b969-f632c42ce6ba",
   "metadata": {},
   "outputs": [],
   "source": []
  }
 ],
 "metadata": {
  "kernelspec": {
   "display_name": "Python 3 (ipykernel)",
   "language": "python",
   "name": "python3"
  },
  "language_info": {
   "codemirror_mode": {
    "name": "ipython",
    "version": 3
   },
   "file_extension": ".py",
   "mimetype": "text/x-python",
   "name": "python",
   "nbconvert_exporter": "python",
   "pygments_lexer": "ipython3",
   "version": "3.11.9"
  }
 },
 "nbformat": 4,
 "nbformat_minor": 5
}
