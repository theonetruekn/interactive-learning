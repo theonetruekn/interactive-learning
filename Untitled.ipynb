{
 "cells": [
  {
   "cell_type": "code",
   "execution_count": 1,
   "id": "86caa84f-ae8f-4e3b-81c7-757337c6e9f0",
   "metadata": {},
   "outputs": [
    {
     "name": "stdout",
     "output_type": "stream",
     "text": [
      "['/home/lupos/miniconda3/envs/llm/lib/python311.zip', '/home/lupos/miniconda3/envs/llm/lib/python3.11', '/home/lupos/miniconda3/envs/llm/lib/python3.11/lib-dynload', '', '/home/lupos/miniconda3/envs/llm/lib/python3.11/site-packages', '/home/lupos/interactive-learning/SmolCoder']\n"
     ]
    }
   ],
   "source": [
    "import sys\n",
    "import os\n",
    "from pathlib import Path\n",
    "sys.path.append(str(os.path.abspath('SmolCoder')))\n",
    "print(sys.path)"
   ]
  },
  {
   "cell_type": "code",
   "execution_count": 2,
   "id": "86b3c936-3398-4c10-93f9-5ed6bb758304",
   "metadata": {},
   "outputs": [],
   "source": [
    "from SmolCoder.src.tools.list_classes import ListClasses\n",
    "from SmolCoder.src.tools.list_methods import ListMethods\n",
    "from SmolCoder.src.tools.show_method import ShowMethodBody\n",
    "from SmolCoder.src.tools.replace_method import ReplaceMethod"
   ]
  },
  {
   "cell_type": "code",
   "execution_count": 3,
   "id": "c5f80d70-d43c-46e4-b964-d61c38c5a2af",
   "metadata": {},
   "outputs": [],
   "source": [
    "list_classes = ListClasses()\n",
    "class_sumary = ListMethods()\n",
    "show_method = ShowMethodBody()\n",
    "replace_method = ReplaceMethod()"
   ]
  },
  {
   "cell_type": "code",
   "execution_count": 4,
   "id": "6d69cea5-b48f-44fa-bd2d-cc839cc41444",
   "metadata": {},
   "outputs": [
    {
     "data": {
      "text/plain": [
       "'The classes in `test.py` are `MyClass` with docstring `Class Docstring`, `MyClass2` with docstring `Another class Docstring`.'"
      ]
     },
     "execution_count": 4,
     "metadata": {},
     "output_type": "execute_result"
    }
   ],
   "source": [
    "list_classes([Path(\"test.py\")], Path(\"tests/test_codebase/\"), None)"
   ]
  },
  {
   "cell_type": "code",
   "execution_count": 5,
   "id": "ca221997-bbeb-4fb9-b75e-12d50eddb706",
   "metadata": {},
   "outputs": [
    {
     "name": "stdout",
     "output_type": "stream",
     "text": [
      "Method `__init__(self, one, two)` with docstring `{ None }`,\n",
      "Method `do_stuff(self)` with docstring `{ This method does stuff. }`\n"
     ]
    }
   ],
   "source": [
    "print(class_sumary([\"MyClass\"], Path(\"tests/test_codebase/\"), None))"
   ]
  },
  {
   "cell_type": "code",
   "execution_count": 6,
   "id": "7333ba92-1208-4292-99bc-23a96d31b1d3",
   "metadata": {},
   "outputs": [
    {
     "name": "stdout",
     "output_type": "stream",
     "text": [
      "```\n",
      "def __init__(self, one: str, two: int):\n",
      "    self.one = one\n",
      "    self.two = two\n",
      "```\n"
     ]
    }
   ],
   "source": [
    "print(show_method([\"MyClass\", \"__init__\"], Path(\"tests/test_codebase/\"), None))"
   ]
  },
  {
   "cell_type": "code",
   "execution_count": 7,
   "id": "0e46d174-15fe-422c-9a83-daa253ea590c",
   "metadata": {},
   "outputs": [
    {
     "data": {
      "text/plain": [
       "\"Method '__init__' in class 'MyClass' replaced successfully in file 'test.py'.\""
      ]
     },
     "execution_count": 7,
     "metadata": {},
     "output_type": "execute_result"
    }
   ],
   "source": [
    "replace_method([\"MyClass\", \"__init__\", \"print('2')\"], Path(\"tests/test_codebase/\"), None)"
   ]
  },
  {
   "cell_type": "code",
   "execution_count": null,
   "id": "db68025d-5fdb-48e2-90f2-2d51cc1b0277",
   "metadata": {},
   "outputs": [],
   "source": []
  }
 ],
 "metadata": {
  "kernelspec": {
   "display_name": "Python 3 (ipykernel)",
   "language": "python",
   "name": "python3"
  },
  "language_info": {
   "codemirror_mode": {
    "name": "ipython",
    "version": 3
   },
   "file_extension": ".py",
   "mimetype": "text/x-python",
   "name": "python",
   "nbconvert_exporter": "python",
   "pygments_lexer": "ipython3",
   "version": "3.11.9"
  }
 },
 "nbformat": 4,
 "nbformat_minor": 5
}
