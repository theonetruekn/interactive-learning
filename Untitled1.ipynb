{
 "cells": [
  {
   "cell_type": "code",
   "execution_count": 1,
   "id": "408769cd-2376-4f01-b61f-3e34af23abd5",
   "metadata": {},
   "outputs": [],
   "source": [
    "import ast\n",
    "import json\n",
    "import os"
   ]
  },
  {
   "cell_type": "code",
   "execution_count": 11,
   "id": "2ad7af76-0585-452f-b111-f3badb4bbaf7",
   "metadata": {},
   "outputs": [],
   "source": [
    "def validate_json_classes_functions(data):\n",
    "    \"\"\"\n",
    "        Return:\n",
    "            Valid: True when no error was found otherwise false\n",
    "            Error_string: contains a string describing all errors\n",
    "            filtered_data: only contains data which is correct\n",
    "        \"\"\"\n",
    "    def get_definitions(file_content):\n",
    "        \"\"\"Parse the Python file and return a dictionary with the classes and functions found.\"\"\"\n",
    "        tree = ast.parse(file_content)\n",
    "        definitions = {\"classes\": set(), \"functions\": set()}\n",
    "\n",
    "        for node in ast.walk(tree):\n",
    "            if isinstance(node, ast.ClassDef):\n",
    "                definitions[\"classes\"].add(node.name)\n",
    "            elif isinstance(node, ast.FunctionDef):\n",
    "                definitions[\"functions\"].add(node.name)\n",
    "\n",
    "        return definitions\n",
    "\n",
    "    valid = True\n",
    "    error_messages = []\n",
    "    filtered_data = []\n",
    "\n",
    "    for item in data:\n",
    "        file_path = item[\"file_path\"]\n",
    "        selected_functions = set(item[\"selected_functions\"])\n",
    "        selected_classes = set(item[\"selected_classes\"])\n",
    "\n",
    "        if not os.path.exists(file_path):\n",
    "            valid = False\n",
    "            error_messages.append(f\"File not found: {file_path}\")\n",
    "            continue  # Skip to the next item, do not add this file to filtered_data\n",
    "\n",
    "        try:\n",
    "            with open(file_path, 'r') as file:\n",
    "                file_content = file.read()\n",
    "\n",
    "            definitions = get_definitions(file_content)\n",
    "            \n",
    "            missing_functions = selected_functions - definitions[\"functions\"]\n",
    "            missing_classes = selected_classes - definitions[\"classes\"]\n",
    "\n",
    "            # Filter out missing functions and classes\n",
    "            valid_functions = selected_functions - missing_functions\n",
    "            valid_classes = selected_classes - missing_classes\n",
    "\n",
    "            if missing_functions:\n",
    "                valid = False\n",
    "                error_messages.append(\n",
    "                    f\"Missing functions in {file_path}: {', '.join(missing_functions)}\"\n",
    "                )\n",
    "            if missing_classes:\n",
    "                valid = False\n",
    "                error_messages.append(\n",
    "                    f\"Missing classes in {file_path}: {', '.join(missing_classes)}\"\n",
    "                )\n",
    "\n",
    "            if valid_functions or valid_classes:\n",
    "                filtered_data.append({\n",
    "                    \"file_path\": file_path,\n",
    "                    \"selected_functions\": list(valid_functions),\n",
    "                    \"selected_classes\": list(valid_classes)\n",
    "                })\n",
    "\n",
    "        except Exception as e:\n",
    "            valid = False\n",
    "            error_messages.append(f\"Error processing {file_path}: {str(e)}\")\n",
    "\n",
    "    return valid, \"\\n\".join(error_messages), filtered_data"
   ]
  },
  {
   "cell_type": "code",
   "execution_count": 20,
   "id": "24d6defa-31b7-4c03-b3a0-717262a7c3de",
   "metadata": {},
   "outputs": [],
   "source": [
    "def parse_json_string(json_string):\n",
    "        \"\"\"\n",
    "        Returns:\n",
    "            Valid: True when json is vlaid otherwise false\n",
    "            data: Either the json data, or an error code\n",
    "        \"\"\"\n",
    "        try:\n",
    "            # Remove the '--- END OF LIST ---' if it's present\n",
    "            if '--- END OF LIST ---' in json_string:\n",
    "                json_string = json_string.replace('--- END OF LIST ---', '').strip()\n",
    "            \n",
    "            # Attempt to parse the JSON string into a Python object\n",
    "            data = json.loads(json_string)\n",
    "            \n",
    "            # Check if the top-level structure is a list\n",
    "            if not isinstance(data, list):\n",
    "                return (False, \"Error: JSON should start with a list of dictionaries.\")\n",
    "            \n",
    "            for i, item in enumerate(data):\n",
    "                if not isinstance(item, dict):\n",
    "                    return (False, f\"Error: Element at index {i} should be a dictionary.\")\n",
    "                \n",
    "                # Check for the 'file_path' key and its type\n",
    "                if 'file_path' not in item:\n",
    "                    return (False, f\"Error: Missing 'file_path' key in element at index {i}.\")\n",
    "                if not isinstance(item['file_path'], str):\n",
    "                    return (False, f\"Error: 'file_path' at index {i} should be a string.\")\n",
    "                \n",
    "               # Check if 'selected_functions' key exists\n",
    "                if 'selected_functions' not in item:\n",
    "                    return (False, f\"Error: 'selected_functions' key is missing at index {i}.\")\n",
    "                \n",
    "                # Check if 'selected_functions' is a list\n",
    "                if not isinstance(item['selected_functions'], list):\n",
    "                    return (False, f\"Error: 'selected_functions' at index {i} should be a list.\")\n",
    "                \n",
    "                # Check if 'selected_classes' key exists\n",
    "                if 'selected_classes' not in item:\n",
    "                    return (False, f\"Error: 'selected_classes' key is missing at index {i}.\")\n",
    "                \n",
    "                # Check if 'selected_classes' is a list\n",
    "                if not isinstance(item['selected_classes'], list):\n",
    "                    return (False, f\"Error: 'selected_classes' at index {i} should be a list.\")\n",
    "                \n",
    "                # Convert all elements in 'selected_functions' and 'selected_classes' to strings\n",
    "                item['selected_functions'] = [str(func) for func in item['selected_functions']]\n",
    "                item['selected_classes'] = [str(cls) for cls in item['selected_classes']]\n",
    "            \n",
    "            return (True, data)\n",
    "        \n",
    "        except json.JSONDecodeError as e:\n",
    "            return (False, f\"Error: Failed to parse JSON. {str(e)}\")\n",
    "    \n",
    "\n"
   ]
  },
  {
   "cell_type": "code",
   "execution_count": 23,
   "id": "9de42b2f-fce9-4de6-979c-b38a362ce6ff",
   "metadata": {},
   "outputs": [],
   "source": [
    "import re\n",
    "\n",
    "def check_unified_diff(diff_string: str) -> str:\n",
    "    # Step 1: Ensure the string ends with \"--- END OF DIFF ---\"\n",
    "    if not diff_string.endswith('--- END OF DIFF ---'):\n",
    "        return \"The diff does not end with '--- END OF DIFF ---'.\"\n",
    "\n",
    "    # Step 2: Remove the end marker and split the lines\n",
    "    diff_string = diff_string.rstrip('--- END OF DIFF ---').strip()\n",
    "    diff_lines = diff_string.splitlines()\n",
    "\n",
    "    # Step 3: Validate unified diff structure\n",
    "    if len(diff_lines) < 4:\n",
    "        return \"The diff is too short to be valid.\"\n",
    "\n",
    "    # Unified diff header lines must start with '---' and '+++'\n",
    "    if not diff_lines[0].startswith('--- '):\n",
    "        return \"The diff header must start with '--- ' followed by the original file name.\"\n",
    "    if not diff_lines[1].startswith('+++ '):\n",
    "        return \"The diff header must have '+++ ' followed by the new file name.\"\n",
    "\n",
    "    # Validate chunk headers\n",
    "    for i, line in enumerate(diff_lines[2:], start=2):\n",
    "        if line.startswith('@@'):\n",
    "            # Chunk header should follow this pattern: @@ -l,s +l,s @@\n",
    "            if not re.match(r'^@@ -\\d+(,\\d+)? \\+\\d+(,\\d+)? @@', line):\n",
    "                return f\"Invalid chunk header format at line {i+1}: '{line}'\"\n",
    "        elif line.startswith(' ') or line.startswith('-') or line.startswith('+'):\n",
    "            # Valid lines in a chunk are context (' '), removal ('-'), or addition ('+')\n",
    "            continue\n",
    "        else:\n",
    "            return f\"Unexpected line format at line {i+1}: '{line}'\"\n",
    "\n",
    "    return \"The diff is correct.\""
   ]
  },
  {
   "cell_type": "code",
   "execution_count": 26,
   "id": "a34909b1-89da-466e-8170-c41ab8adbbf6",
   "metadata": {},
   "outputs": [
    {
     "name": "stdout",
     "output_type": "stream",
     "text": [
      "--- a/file.txt\n",
      "+++ b/file.txt\n",
      "@@ -1,3 +1,3 @@\n",
      "-Hello\n",
      "+Hi\n",
      " World\n",
      "--- END OF DIFF ---\n",
      "The diff is correct.\n"
     ]
    }
   ],
   "source": [
    "diff = (\n",
    "\"--- a/file.txt\\n\"\n",
    "\"+++ b/file.txt\\n\"\n",
    "\"@@ -1,3 +1,3 @@\\n\"\n",
    "\"-Hello\\n\"\n",
    "\"+Hi\\n\"\n",
    "\" World\\n\"\n",
    "\"--- END OF DIFF ---\"\n",
    ")\n",
    "\n",
    "print(diff)\n",
    "result = check_unified_diff(diff)\n",
    "print(result)"
   ]
  },
  {
   "cell_type": "code",
   "execution_count": 21,
   "id": "8e3f116f-dc00-4e5d-8f02-0b869485a64f",
   "metadata": {},
   "outputs": [],
   "source": [
    "test = \"\"\"\n",
    "[\n",
    "  {\n",
    "      \"file_path\": \"./repos/sqlfluff/src/sqlfluff/core/cached_property.py\",\n",
    "      \"classes\": [\n",
    "          \"CachedProperty\"\n",
    "      ],\n",
    "      \"functions\": []\n",
    "  },\n",
    "  {\n",
    "      \"file_path\": \"./repos/sqlfluff/src/sqlfluff/core/timing.py\",\n",
    "      \"classes\": [\n",
    "          \"TimingSummary\"\n",
    "      ],\n",
    "      \"functions\": []\n",
    "  },\n",
    "  {\n",
    "      \"file_path\": \"./repos/sqlfluff/src/sqlfluff/core/linter/linted_file.py\",\n",
    "      \"classes\": [],\n",
    "      \"functions\": [\"get_violations\"]\n",
    "  }\n",
    "  ]\n",
    "\"\"\""
   ]
  },
  {
   "cell_type": "code",
   "execution_count": 22,
   "id": "fa125419-199a-4bb2-9adb-98d7b9cf0f30",
   "metadata": {},
   "outputs": [
    {
     "data": {
      "text/plain": [
       "(False, \"Error: 'selected_functions' key is missing at index 0.\")"
      ]
     },
     "execution_count": 22,
     "metadata": {},
     "output_type": "execute_result"
    }
   ],
   "source": [
    "parse_json_string(test)"
   ]
  },
  {
   "cell_type": "code",
   "execution_count": 39,
   "id": "cd61ad0c-76ab-46d6-94a9-a7523eb5d22b",
   "metadata": {},
   "outputs": [
    {
     "data": {
      "text/plain": [
       "[]"
      ]
     },
     "execution_count": 39,
     "metadata": {},
     "output_type": "execute_result"
    }
   ],
   "source": [
    "valid_data"
   ]
  },
  {
   "cell_type": "code",
   "execution_count": null,
   "id": "7cc44179-a9db-4302-8d0e-8cc0b2224c97",
   "metadata": {},
   "outputs": [],
   "source": []
  }
 ],
 "metadata": {
  "kernelspec": {
   "display_name": "Python 3 (ipykernel)",
   "language": "python",
   "name": "python3"
  },
  "language_info": {
   "codemirror_mode": {
    "name": "ipython",
    "version": 3
   },
   "file_extension": ".py",
   "mimetype": "text/x-python",
   "name": "python",
   "nbconvert_exporter": "python",
   "pygments_lexer": "ipython3",
   "version": "3.11.9"
  }
 },
 "nbformat": 4,
 "nbformat_minor": 5
}
