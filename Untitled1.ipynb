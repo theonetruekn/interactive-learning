{
 "cells": [
  {
   "cell_type": "code",
   "execution_count": 10,
   "id": "408769cd-2376-4f01-b61f-3e34af23abd5",
   "metadata": {},
   "outputs": [],
   "source": [
    "import ast\n",
    "import json\n",
    "import os"
   ]
  },
  {
   "cell_type": "code",
   "execution_count": 20,
   "id": "2ad7af76-0585-452f-b111-f3badb4bbaf7",
   "metadata": {},
   "outputs": [],
   "source": [
    "def validate_definitions(data):\n",
    "    def get_definitions(file_content):\n",
    "        \"\"\"Parse the Python file and return a dictionary with the classes and functions found.\"\"\"\n",
    "        tree = ast.parse(file_content)\n",
    "        definitions = {\"classes\": set(), \"functions\": set()}\n",
    "\n",
    "        for node in ast.walk(tree):\n",
    "            if isinstance(node, ast.ClassDef):\n",
    "                definitions[\"classes\"].add(node.name)\n",
    "            elif isinstance(node, ast.FunctionDef):\n",
    "                definitions[\"functions\"].add(node.name)\n",
    "\n",
    "        return definitions\n",
    "\n",
    "    valid = True\n",
    "    error_messages = []\n",
    "\n",
    "    for item in data:\n",
    "        file_path = item[\"file_path\"]\n",
    "        selected_functions = set(item[\"selected_functions\"])\n",
    "        selected_classes = set(item[\"selected_classes\"])\n",
    "\n",
    "        if not os.path.exists(file_path):\n",
    "            valid = False\n",
    "            error_messages.append(f\"File not found: {file_path}\")\n",
    "            continue\n",
    "\n",
    "        try:\n",
    "            with open(file_path, 'r') as file:\n",
    "                file_content = file.read()\n",
    "\n",
    "            definitions = get_definitions(file_content)\n",
    "            \n",
    "            missing_functions = selected_functions - definitions[\"functions\"]\n",
    "            missing_classes = selected_classes - definitions[\"classes\"]\n",
    "\n",
    "            if missing_functions:\n",
    "                valid = False\n",
    "                error_messages.append(\n",
    "                    f\"Missing functions in {file_path}: {', '.join(missing_functions)}\"\n",
    "                )\n",
    "            if missing_classes:\n",
    "                valid = False\n",
    "                error_messages.append(\n",
    "                    f\"Missing classes in {file_path}: {', '.join(missing_classes)}\"\n",
    "                )\n",
    "\n",
    "        except Exception as e:\n",
    "            valid = False\n",
    "            error_messages.append(f\"Error processing {file_path}: {str(e)}\")\n",
    "\n",
    "    return valid, \"\\n\".join(error_messages)"
   ]
  },
  {
   "cell_type": "code",
   "execution_count": 29,
   "id": "8e3f116f-dc00-4e5d-8f02-0b869485a64f",
   "metadata": {},
   "outputs": [],
   "source": [
    "test = \"\"\"\n",
    "[\n",
    "    {\n",
    "        \"file_path\": \"./test_codebase/bias.py\",\n",
    "        \"selected_functions\": [\"causal_upper_left\", \"causal_upper_right\"],\n",
    "        \"selected_classes\": [\"CausalVariant\", \"CausalBias\"]\n",
    "    },\n",
    "    {\n",
    "        \"file_path\": \"/torch/fx/passes/reinplace.py\",\n",
    "        \"selected_functions\": [],\n",
    "        \"selected_classes\": [\"_ViewType\"]\n",
    "    }\n",
    "]\n",
    "\"\"\""
   ]
  },
  {
   "cell_type": "code",
   "execution_count": 31,
   "id": "fa125419-199a-4bb2-9adb-98d7b9cf0f30",
   "metadata": {},
   "outputs": [
    {
     "name": "stdout",
     "output_type": "stream",
     "text": [
      "Missing functions in ./test_codebase/bias.py: causal_upper_right\n",
      "File not found: /torch/fx/passes/reinplace.py\n"
     ]
    }
   ],
   "source": [
    "v, e = validate_definitions(json.loads(test))\n",
    "print(e)"
   ]
  },
  {
   "cell_type": "code",
   "execution_count": null,
   "id": "cd61ad0c-76ab-46d6-94a9-a7523eb5d22b",
   "metadata": {},
   "outputs": [],
   "source": []
  }
 ],
 "metadata": {
  "kernelspec": {
   "display_name": "Python 3 (ipykernel)",
   "language": "python",
   "name": "python3"
  },
  "language_info": {
   "codemirror_mode": {
    "name": "ipython",
    "version": 3
   },
   "file_extension": ".py",
   "mimetype": "text/x-python",
   "name": "python",
   "nbconvert_exporter": "python",
   "pygments_lexer": "ipython3",
   "version": "3.11.9"
  }
 },
 "nbformat": 4,
 "nbformat_minor": 5
}
