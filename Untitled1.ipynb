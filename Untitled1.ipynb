{
 "cells": [
  {
   "cell_type": "code",
   "execution_count": 1,
   "id": "fc451d82-25b6-42ff-bfa8-279f06c8d575",
   "metadata": {},
   "outputs": [],
   "source": [
    "from pathlib import Path"
   ]
  },
  {
   "cell_type": "code",
   "execution_count": 2,
   "id": "4130aac4-214e-4abd-8dd1-316fa297da89",
   "metadata": {},
   "outputs": [
    {
     "data": {
      "text/plain": [
       "PosixPath('test/hello.md')"
      ]
     },
     "execution_count": 2,
     "metadata": {},
     "output_type": "execute_result"
    }
   ],
   "source": [
    "Path(\"test\") / Path(\"hello.md\")"
   ]
  },
  {
   "cell_type": "code",
   "execution_count": 5,
   "id": "6dabc394-fae8-42ca-b4a2-382534125e0b",
   "metadata": {},
   "outputs": [],
   "source": [
    "import os\n",
    "import ast\n"
   ]
  },
  {
   "cell_type": "code",
   "execution_count": 26,
   "id": "69c31b83-3e6f-4a6c-830e-60adcd1cdcb7",
   "metadata": {},
   "outputs": [],
   "source": [
    "def find_method_in_class(cwd, class_name, method_name):\n",
    "    for root, _, files in os.walk(cwd):\n",
    "        for file in files:\n",
    "            if file.endswith('.py'):\n",
    "                file_path = os.path.join(root, file)\n",
    "                with open(file_path, 'r', encoding='utf-8') as f:\n",
    "                    try:\n",
    "                        file_content = f.read()\n",
    "                        tree = ast.parse(file_content, filename=file_path)\n",
    "                        \n",
    "                        for node in ast.walk(tree):\n",
    "                            if isinstance(node, ast.ClassDef) and node.name == class_name:\n",
    "                                if logger:\n",
    "                                    logger.log(f\"Found the correct class {class_name} in the file {file_path}\")\n",
    "                                \n",
    "                                for class_node in node.body:\n",
    "                                    if isinstance(class_node, ast.FunctionDef) and class_node.name == method_name:\n",
    "                                        print(f\"Found method {method_name} in class {class_name} in file {file_path}\")\n",
    "                                        if logger:\n",
    "                                            logger.log(f\"Found the correct method {method_name} in the class {class_name}\")\n",
    "                                        \n",
    "                                        # Retrieve the source code of the method\n",
    "                                        method_source_lines = file_content.splitlines()[class_node.lineno-1:class_node.end_lineno]\n",
    "                                        method_source = '\\n'.join(method_source_lines)\n",
    "                                        return f\"```\\n{method_source.strip()}\\n```\"\n",
    "                    except Exception as e:\n",
    "                        print(f\"Failed to parse {file_path}: {e}\")\n",
    "    \n",
    "    return f\"Class {class_name} with method {method_name} not found in any module in {cwd}\"\n"
   ]
  },
  {
   "cell_type": "code",
   "execution_count": 27,
   "id": "d2a98e85-8734-40d4-97f3-1560e8913b63",
   "metadata": {},
   "outputs": [
    {
     "name": "stdout",
     "output_type": "stream",
     "text": [
      "Starting search in directory: test_codebase\n",
      "Searching in directory: test_codebase\n",
      "Processing file: test_codebase/test.py\n",
      "Parsing file: test_codebase/test.py\n",
      "Found class MyClass in file test_codebase/test.py\n",
      "Found method do_stuff in class MyClass in file test_codebase/test.py\n",
      "Extracted source for method do_stuff in class MyClass:\n",
      "def do_stuff():\n",
      "        test = 5 + 3\n",
      "        if test == 8:\n",
      "            print(test)\n",
      "        else:\n",
      "            print('ups')\n",
      "        return ''\n"
     ]
    },
    {
     "data": {
      "text/plain": [
       "\"```\\ndef do_stuff():\\n        test = 5 + 3\\n        if test == 8:\\n            print(test)\\n        else:\\n            print('ups')\\n        return ''\\n```\""
      ]
     },
     "execution_count": 27,
     "metadata": {},
     "output_type": "execute_result"
    }
   ],
   "source": [
    "find_method_in_class(\"test_codebase\", \"MyClass\", \"do_stuff\")"
   ]
  },
  {
   "cell_type": "code",
   "execution_count": null,
   "id": "25bdc792-1d5c-4d10-8a29-09444554aa4f",
   "metadata": {},
   "outputs": [],
   "source": []
  }
 ],
 "metadata": {
  "kernelspec": {
   "display_name": "Python 3 (ipykernel)",
   "language": "python",
   "name": "python3"
  },
  "language_info": {
   "codemirror_mode": {
    "name": "ipython",
    "version": 3
   },
   "file_extension": ".py",
   "mimetype": "text/x-python",
   "name": "python",
   "nbconvert_exporter": "python",
   "pygments_lexer": "ipython3",
   "version": "3.11.9"
  }
 },
 "nbformat": 4,
 "nbformat_minor": 5
}
