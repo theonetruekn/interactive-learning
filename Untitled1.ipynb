{
 "cells": [
  {
   "cell_type": "code",
   "execution_count": 45,
   "id": "408769cd-2376-4f01-b61f-3e34af23abd5",
   "metadata": {},
   "outputs": [],
   "source": [
    "import ast\n",
    "import json\n",
    "import os"
   ]
  },
  {
   "cell_type": "code",
   "execution_count": 46,
   "id": "2ad7af76-0585-452f-b111-f3badb4bbaf7",
   "metadata": {},
   "outputs": [],
   "source": [
    "def validate_json_classes_functions(self, data):\n",
    "    \"\"\"\n",
    "        Return:\n",
    "            Valid: True when no error was found otherwise false\n",
    "            Error_string: contains a string describing all errors\n",
    "            filtered_data: only contains data which is correct\n",
    "        \"\"\"\n",
    "    def get_definitions(file_content):\n",
    "        \"\"\"Parse the Python file and return a dictionary with the classes and functions found.\"\"\"\n",
    "        tree = ast.parse(file_content)\n",
    "        definitions = {\"classes\": set(), \"functions\": set()}\n",
    "\n",
    "        for node in ast.walk(tree):\n",
    "            if isinstance(node, ast.ClassDef):\n",
    "                definitions[\"classes\"].add(node.name)\n",
    "            elif isinstance(node, ast.FunctionDef):\n",
    "                definitions[\"functions\"].add(node.name)\n",
    "\n",
    "        return definitions\n",
    "\n",
    "    valid = True\n",
    "    error_messages = []\n",
    "    filtered_data = []\n",
    "\n",
    "    for item in data:\n",
    "        file_path = item[\"file_path\"]\n",
    "        selected_functions = set(item[\"selected_functions\"])\n",
    "        selected_classes = set(item[\"selected_classes\"])\n",
    "\n",
    "        if not os.path.exists(file_path):\n",
    "            valid = False\n",
    "            error_messages.append(f\"File not found: {file_path}\")\n",
    "            continue  # Skip to the next item, do not add this file to filtered_data\n",
    "\n",
    "        try:\n",
    "            with open(file_path, 'r') as file:\n",
    "                file_content = file.read()\n",
    "\n",
    "            definitions = get_definitions(file_content)\n",
    "            \n",
    "            missing_functions = selected_functions - definitions[\"functions\"]\n",
    "            missing_classes = selected_classes - definitions[\"classes\"]\n",
    "\n",
    "            # Filter out missing functions and classes\n",
    "            valid_functions = selected_functions - missing_functions\n",
    "            valid_classes = selected_classes - missing_classes\n",
    "\n",
    "            if missing_functions:\n",
    "                valid = False\n",
    "                error_messages.append(\n",
    "                    f\"Missing functions in {file_path}: {', '.join(missing_functions)}\"\n",
    "                )\n",
    "            if missing_classes:\n",
    "                valid = False\n",
    "                error_messages.append(\n",
    "                    f\"Missing classes in {file_path}: {', '.join(missing_classes)}\"\n",
    "                )\n",
    "\n",
    "            if valid_functions or valid_classes:\n",
    "                filtered_data.append({\n",
    "                    \"file_path\": file_path,\n",
    "                    \"selected_functions\": list(valid_functions),\n",
    "                    \"selected_classes\": list(valid_classes)\n",
    "                })\n",
    "\n",
    "        except Exception as e:\n",
    "            valid = False\n",
    "            error_messages.append(f\"Error processing {file_path}: {str(e)}\")\n",
    "\n",
    "    return valid, \"\\n\".join(error_messages), filtered_data"
   ]
  },
  {
   "cell_type": "code",
   "execution_count": 47,
   "id": "8e3f116f-dc00-4e5d-8f02-0b869485a64f",
   "metadata": {},
   "outputs": [],
   "source": [
    "test = \"\"\"\n",
    "[\n",
    "    {\n",
    "        \"file_path\": \"./test_codebase/bias.py\",\n",
    "        \"selected_functions\": [\"causal_upper_left\", \"causal_upper_right\"],\n",
    "        \"selected_classes\": [\"CausalVariant\", \"CausalBias\"]\n",
    "    },\n",
    "    {\n",
    "        \"file_path\": \"/torch/fx/passes/reinplace.py\",\n",
    "        \"selected_functions\": [],\n",
    "        \"selected_classes\": [\"_ViewType\"]\n",
    "    }\n",
    "]\n",
    "\"\"\""
   ]
  },
  {
   "cell_type": "code",
   "execution_count": 48,
   "id": "fa125419-199a-4bb2-9adb-98d7b9cf0f30",
   "metadata": {},
   "outputs": [
    {
     "data": {
      "text/plain": [
       "(False,\n",
       " 'Missing functions in ./test_codebase/bias.py: causal_upper_right\\nFile not found: /torch/fx/passes/reinplace.py',\n",
       " [{'file_path': './test_codebase/bias.py',\n",
       "   'selected_functions': ['causal_upper_left'],\n",
       "   'selected_classes': ['CausalVariant', 'CausalBias']}])"
      ]
     },
     "execution_count": 48,
     "metadata": {},
     "output_type": "execute_result"
    }
   ],
   "source": [
    "validate_definitions(json.loads(test))"
   ]
  },
  {
   "cell_type": "code",
   "execution_count": 39,
   "id": "cd61ad0c-76ab-46d6-94a9-a7523eb5d22b",
   "metadata": {},
   "outputs": [
    {
     "data": {
      "text/plain": [
       "[]"
      ]
     },
     "execution_count": 39,
     "metadata": {},
     "output_type": "execute_result"
    }
   ],
   "source": [
    "valid_data"
   ]
  },
  {
   "cell_type": "code",
   "execution_count": null,
   "id": "7cc44179-a9db-4302-8d0e-8cc0b2224c97",
   "metadata": {},
   "outputs": [],
   "source": []
  }
 ],
 "metadata": {
  "kernelspec": {
   "display_name": "Python 3 (ipykernel)",
   "language": "python",
   "name": "python3"
  },
  "language_info": {
   "codemirror_mode": {
    "name": "ipython",
    "version": 3
   },
   "file_extension": ".py",
   "mimetype": "text/x-python",
   "name": "python",
   "nbconvert_exporter": "python",
   "pygments_lexer": "ipython3",
   "version": "3.11.9"
  }
 },
 "nbformat": 4,
 "nbformat_minor": 5
}
